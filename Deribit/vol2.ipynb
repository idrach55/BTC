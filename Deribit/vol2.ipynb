{
 "cells": [
  {
   "cell_type": "code",
   "execution_count": 1,
   "metadata": {},
   "outputs": [
    {
     "name": "stdout",
     "output_type": "stream",
     "text": [
      "Populating the interactive namespace from numpy and matplotlib\n"
     ]
    }
   ],
   "source": [
    "%pylab inline\n",
    "\n",
    "import pandas as pd\n",
    "\n",
    "from pytz import timezone\n",
    "from datetime import datetime\n",
    "from deribit_api import RestClient\n",
    "from scipy.optimize import curve_fit, brentq\n",
    "from scipy.stats import norm\n",
    "\n",
    "rcParams['axes.grid'] = True\n",
    "rcParams['figure.figsize'] = (12,8)"
   ]
  },
  {
   "cell_type": "code",
   "execution_count": 2,
   "metadata": {},
   "outputs": [],
   "source": [
    "def now_in_utc():\n",
    "    return datetime.now(timezone('UTC'))\n",
    "\n",
    "def time_to_dt(dt):\n",
    "    return (dt - now_in_utc()).total_seconds() / (60*60*24) / 365 \n",
    "\n",
    "def BS_price(F, K, T, r, sigma, pc):\n",
    "    d1 = (np.log(F/K) + (sigma**2/2)*T)/(sigma*np.sqrt(T))\n",
    "    d2 = d1 - sigma*np.sqrt(T)\n",
    "    if pc == 'call':\n",
    "        return np.exp(-r*T)*(norm.cdf(d1)*F - norm.cdf(d2)*K)\n",
    "    else:\n",
    "        return np.exp(-r*T)*(norm.cdf(-d2)*K - norm.cdf(-d1)*F)\n",
    "\n",
    "class Future:\n",
    "    def __init__(self, instrument):\n",
    "        self.name = instrument['instrumentName']\n",
    "        self.expiry = pd.to_datetime(instrument['expiration'])\n",
    "        \n",
    "    def time_to_expiry(self):\n",
    "        return time_to_dt(self.expiry)\n",
    "    \n",
    "    def implied_carry(self, rate):\n",
    "        spot = client.index()['btc']\n",
    "        mark = self.get_mark()\n",
    "        return np.log(mark/spot)/self.time_to_expiry() - rate\n",
    "        \n",
    "    def get_mark(self):\n",
    "        return client.getorderbook(self.name)['mark']\n",
    "    \n",
    "class Option:\n",
    "    def __init__(self, instrument):\n",
    "        self.name = instrument['instrumentName']\n",
    "        self.expiry = pd.to_datetime(instrument['expiration'])\n",
    "        self.strike = instrument['strike']\n",
    "        self.putcall = instrument['optionType']\n",
    "        \n",
    "    def time_to_expiry(self):\n",
    "        return time_to_dt(self.expiry)\n",
    "    \n",
    "    def get_mark(self):\n",
    "        return client.getorderbook(self.name)['mark'] * client.index()['btc']\n",
    "    \n",
    "    def forward(self, rate):\n",
    "        spot = client.index()['btc']\n",
    "        bc   = borrow_curve(self.time_to_expiry())\n",
    "        return spot*np.exp((rate + bc)*self.time_to_expiry())\n",
    "    \n",
    "    def implied_vol(self, rate):\n",
    "        F = self.forward(rate)\n",
    "        mark  = self.get_mark()\n",
    "        error = lambda sigma: BS_price(F, self.strike, self.time_to_expiry(), rate, sigma, self.putcall) - mark\n",
    "        return brentq(error, 0.01, 10.0)"
   ]
  },
  {
   "cell_type": "code",
   "execution_count": 3,
   "metadata": {},
   "outputs": [],
   "source": [
    "keys = open('keys.txt','r').read().split('\\n')[:-1]\n",
    "client = RestClient(key=keys[0],secret=keys[1])"
   ]
  },
  {
   "cell_type": "code",
   "execution_count": 4,
   "metadata": {},
   "outputs": [],
   "source": [
    "instruments = client.getinstruments()"
   ]
  },
  {
   "cell_type": "code",
   "execution_count": 5,
   "metadata": {},
   "outputs": [],
   "source": [
    "# Fit borrow curve to futures\n",
    "btc_futures = [inst for inst in instruments if inst['kind'] == 'future' \n",
    "               and inst['baseCurrency'] == 'BTC' and inst['settlement'] != 'perpetual']\n",
    "btc_futures = [Future(inst) for inst in btc_futures]\n",
    "\n",
    "borrows = pd.Series([inst.implied_carry(0) for inst in btc_futures],\n",
    "                    index=[inst.time_to_expiry() for inst in btc_futures])\n",
    "borrows = borrows.sort_index()\n",
    "\n",
    "def borrow_curve(t):\n",
    "    return np.interp(0.5, borrows.index, borrows.values)"
   ]
  },
  {
   "cell_type": "code",
   "execution_count": 6,
   "metadata": {},
   "outputs": [],
   "source": [
    "options = [inst for inst in instruments if inst['kind'] == 'option' and inst['baseCurrency'] == 'BTC']"
   ]
  },
  {
   "cell_type": "code",
   "execution_count": 7,
   "metadata": {},
   "outputs": [],
   "source": [
    "expiries = np.unique([opt['expiration'] for opt in options])"
   ]
  },
  {
   "cell_type": "code",
   "execution_count": 8,
   "metadata": {},
   "outputs": [],
   "source": [
    "vol_func = lambda NS, atm, skew, vov, kurt: atm + NS*skew + NS**2*vov + NS**3*kurt #+ (NS > 2)*cw + (NS < -2)*pw\n",
    "def fit_expiry(expiry):\n",
    "    #expiration = '2020-09-25'\n",
    "    #expiry = expiration + ' 08:00:00 GMT'\n",
    "    spot = client.index()['btc']\n",
    "\n",
    "    this_expiry = [opt for opt in options if opt['expiration'] == expiry]\n",
    "    this_expiry.sort(key=lambda opt: opt['strike'])\n",
    "\n",
    "    OTM_call = [Option(opt) for opt in this_expiry if (opt['optionType'] == 'call' and opt['strike'] > spot)]\n",
    "    OTM_put  = [Option(opt) for opt in this_expiry if (opt['optionType'] == 'put' and opt['strike'] <= spot)]\n",
    "    vols_call = [opt.implied_vol(0) for opt in OTM_call]\n",
    "    vols_put  = [opt.implied_vol(0) for opt in OTM_put]\n",
    "    \n",
    "    OTM  = OTM_put+OTM_call\n",
    "    vols = vols_put+vols_call\n",
    "\n",
    "    ATM_vol   = vols_put[-1]\n",
    "    NS_strike = [np.log(OTM[idx].strike / OTM[idx].forward(0))/(vols[idx]*np.sqrt(OTM[idx].time_to_expiry())) \n",
    "                 for idx in range(len(OTM))]\n",
    "    \n",
    "    return NS_strike, vols, curve_fit(vol_func, NS_strike, vols)[0]\n",
    "\n",
    "surface = {}\n",
    "strikes = {}\n",
    "vols = {}\n",
    "for expiry in expiries:\n",
    "    NS_strike, vol, params = fit_expiry(expiry)\n",
    "    surface[expiry] = params\n",
    "    strikes[expiry] = NS_strike\n",
    "    vols[expiry] = vol"
   ]
  },
  {
   "cell_type": "code",
   "execution_count": 9,
   "metadata": {},
   "outputs": [],
   "source": [
    "def surface_plot(expiry):\n",
    "    plot(strikes[expiry],vols[expiry])\n",
    "    plot(strikes[expiry],[vol_func(ns,*surface[expiry]) for ns in strikes[expiry]])"
   ]
  },
  {
   "cell_type": "code",
   "execution_count": 10,
   "metadata": {},
   "outputs": [],
   "source": [
    "surface_frame = pd.DataFrame(surface).T\n",
    "#surface_frame.index = pd.to_datetime(surface_frame.index)\n",
    "surface_frame.columns = ['atm','skew','vov','kurt']"
   ]
  },
  {
   "cell_type": "code",
   "execution_count": 11,
   "metadata": {},
   "outputs": [],
   "source": [
    "def norm_skew(expiry):\n",
    "    c25d = norm.ppf(0.75) - surface[expiry][0]/2*np.sqrt(time_to_dt(pd.to_datetime(expiry)))\n",
    "    c50d = norm.ppf(0.50) - surface[expiry][0]/2*np.sqrt(time_to_dt(pd.to_datetime(expiry)))\n",
    "    return (vol_func(-c25d, *surface[expiry]) - vol_func(c25d, *surface[expiry])) / (2*vol_func(c50d, *surface[expiry]))\n",
    "\n",
    "def norm_vov(expiry):\n",
    "    c5d = norm.ppf(0.95) - surface[expiry][0]/2*np.sqrt(time_to_dt(pd.to_datetime(expiry)))\n",
    "    c50d = norm.ppf(0.50) - surface[expiry][0]/2*np.sqrt(time_to_dt(pd.to_datetime(expiry)))\n",
    "    return (vol_func(-c5d, *surface[expiry]) + vol_func(c5d, *surface[expiry])) / (2*vol_func(c50d, *surface[expiry]))"
   ]
  },
  {
   "cell_type": "code",
   "execution_count": 12,
   "metadata": {},
   "outputs": [],
   "source": [
    "surface_frame['norm skew'] = [norm_skew(expiry) for expiry in surface_frame.index]\n",
    "surface_frame['norm vov'] = [norm_vov(expiry) for expiry in surface_frame.index]"
   ]
  },
  {
   "cell_type": "code",
   "execution_count": 13,
   "metadata": {},
   "outputs": [
    {
     "data": {
      "text/html": [
       "<div>\n",
       "<style scoped>\n",
       "    .dataframe tbody tr th:only-of-type {\n",
       "        vertical-align: middle;\n",
       "    }\n",
       "\n",
       "    .dataframe tbody tr th {\n",
       "        vertical-align: top;\n",
       "    }\n",
       "\n",
       "    .dataframe thead th {\n",
       "        text-align: right;\n",
       "    }\n",
       "</style>\n",
       "<table border=\"1\" class=\"dataframe\">\n",
       "  <thead>\n",
       "    <tr style=\"text-align: right;\">\n",
       "      <th></th>\n",
       "      <th>atm</th>\n",
       "      <th>skew</th>\n",
       "      <th>vov</th>\n",
       "      <th>kurt</th>\n",
       "      <th>norm skew</th>\n",
       "      <th>norm vov</th>\n",
       "    </tr>\n",
       "  </thead>\n",
       "  <tbody>\n",
       "    <tr>\n",
       "      <th>2020-08-09 08:00:00 GMT</th>\n",
       "      <td>0.545428</td>\n",
       "      <td>0.037400</td>\n",
       "      <td>0.008518</td>\n",
       "      <td>-0.000133</td>\n",
       "      <td>-0.045542</td>\n",
       "      <td>1.042450</td>\n",
       "    </tr>\n",
       "    <tr>\n",
       "      <th>2020-08-10 08:00:00 GMT</th>\n",
       "      <td>0.461144</td>\n",
       "      <td>0.027060</td>\n",
       "      <td>0.070712</td>\n",
       "      <td>0.002831</td>\n",
       "      <td>-0.040520</td>\n",
       "      <td>1.408699</td>\n",
       "    </tr>\n",
       "    <tr>\n",
       "      <th>2020-08-14 08:00:00 GMT</th>\n",
       "      <td>0.488667</td>\n",
       "      <td>-0.033875</td>\n",
       "      <td>0.095794</td>\n",
       "      <td>0.001503</td>\n",
       "      <td>0.043761</td>\n",
       "      <td>1.507878</td>\n",
       "    </tr>\n",
       "    <tr>\n",
       "      <th>2020-08-21 08:00:00 GMT</th>\n",
       "      <td>0.477738</td>\n",
       "      <td>0.046189</td>\n",
       "      <td>0.111508</td>\n",
       "      <td>-0.025622</td>\n",
       "      <td>-0.047692</td>\n",
       "      <td>1.604165</td>\n",
       "    </tr>\n",
       "    <tr>\n",
       "      <th>2020-08-28 08:00:00 GMT</th>\n",
       "      <td>0.531407</td>\n",
       "      <td>0.035893</td>\n",
       "      <td>0.117417</td>\n",
       "      <td>-0.024236</td>\n",
       "      <td>-0.031004</td>\n",
       "      <td>1.559187</td>\n",
       "    </tr>\n",
       "    <tr>\n",
       "      <th>2020-09-25 08:00:00 GMT</th>\n",
       "      <td>0.639129</td>\n",
       "      <td>-0.071733</td>\n",
       "      <td>0.089312</td>\n",
       "      <td>0.011697</td>\n",
       "      <td>0.058700</td>\n",
       "      <td>1.307652</td>\n",
       "    </tr>\n",
       "    <tr>\n",
       "      <th>2020-12-25 08:00:00 GMT</th>\n",
       "      <td>0.679123</td>\n",
       "      <td>0.043369</td>\n",
       "      <td>0.097779</td>\n",
       "      <td>-0.019193</td>\n",
       "      <td>-0.027053</td>\n",
       "      <td>1.305655</td>\n",
       "    </tr>\n",
       "    <tr>\n",
       "      <th>2021-03-26 08:00:00 GMT</th>\n",
       "      <td>0.678940</td>\n",
       "      <td>0.038996</td>\n",
       "      <td>0.067214</td>\n",
       "      <td>0.000638</td>\n",
       "      <td>-0.023539</td>\n",
       "      <td>1.197303</td>\n",
       "    </tr>\n",
       "  </tbody>\n",
       "</table>\n",
       "</div>"
      ],
      "text/plain": [
       "                              atm      skew       vov      kurt  norm skew  \\\n",
       "2020-08-09 08:00:00 GMT  0.545428  0.037400  0.008518 -0.000133  -0.045542   \n",
       "2020-08-10 08:00:00 GMT  0.461144  0.027060  0.070712  0.002831  -0.040520   \n",
       "2020-08-14 08:00:00 GMT  0.488667 -0.033875  0.095794  0.001503   0.043761   \n",
       "2020-08-21 08:00:00 GMT  0.477738  0.046189  0.111508 -0.025622  -0.047692   \n",
       "2020-08-28 08:00:00 GMT  0.531407  0.035893  0.117417 -0.024236  -0.031004   \n",
       "2020-09-25 08:00:00 GMT  0.639129 -0.071733  0.089312  0.011697   0.058700   \n",
       "2020-12-25 08:00:00 GMT  0.679123  0.043369  0.097779 -0.019193  -0.027053   \n",
       "2021-03-26 08:00:00 GMT  0.678940  0.038996  0.067214  0.000638  -0.023539   \n",
       "\n",
       "                         norm vov  \n",
       "2020-08-09 08:00:00 GMT  1.042450  \n",
       "2020-08-10 08:00:00 GMT  1.408699  \n",
       "2020-08-14 08:00:00 GMT  1.507878  \n",
       "2020-08-21 08:00:00 GMT  1.604165  \n",
       "2020-08-28 08:00:00 GMT  1.559187  \n",
       "2020-09-25 08:00:00 GMT  1.307652  \n",
       "2020-12-25 08:00:00 GMT  1.305655  \n",
       "2021-03-26 08:00:00 GMT  1.197303  "
      ]
     },
     "execution_count": 13,
     "metadata": {},
     "output_type": "execute_result"
    }
   ],
   "source": [
    "surface_frame"
   ]
  },
  {
   "cell_type": "code",
   "execution_count": 14,
   "metadata": {},
   "outputs": [
    {
     "data": {
      "image/png": "[encoded data removed]",
      "text/plain": [
       "<Figure size 432x288 with 1 Axes>"
      ]
     },
     "metadata": {
      "needs_background": "light"
     },
     "output_type": "display_data"
    }
   ],
   "source": [
    "surface_plot('2020-12-25 08:00:00 GMT')"
   ]
  },
  {
   "cell_type": "code",
   "execution_count": null,
   "metadata": {},
   "outputs": [],
   "source": []
  }
 ],
 "metadata": {
  "kernelspec": {
   "display_name": "Python 3",
   "language": "python",
   "name": "python3"
  },
  "language_info": {
   "codemirror_mode": {
    "name": "ipython",
    "version": 3
   },
   "file_extension": ".py",
   "mimetype": "text/x-python",
   "name": "python",
   "nbconvert_exporter": "python",
   "pygments_lexer": "ipython3",
   "version": "3.7.3"
  }
 },
 "nbformat": 4,
 "nbformat_minor": 2
}
